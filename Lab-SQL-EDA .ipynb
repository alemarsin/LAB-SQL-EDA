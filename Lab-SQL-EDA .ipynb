{
 "cells": [
  {
   "cell_type": "markdown",
   "metadata": {},
   "source": [
    "<center>\n",
    "<img src=\"https://cf-courses-data.s3.us.cloud-object-storage.appdomain.cloud/IBMDeveloperSkillsNetwork-RP0321EN-SkillsNetwork/labs/module_1/images/SN_web_lightmode.png\" width=\"300\"> \n",
    "</center>\n",
    "\n",
    "# Assignment: Exploratory Data Analysis with SQL\n",
    "Estimated time needed: 60 minutes\n",
    "\n",
    "\n",
    "# Introduction\n",
    "Using this R notebook you will perform exploratory data analysis tasks using SQL queries with the RODBC R package. You will not be graded here, but you will be asked to present some of these results in your final assignment, where you will be graded on the accuracy of your results as well as the content of your SQL queries.\n"
   ]
  },
  {
   "cell_type": "markdown",
   "metadata": {},
   "source": [
    "### Establish your Db2 connection\n",
    "Load the 'RODBC' library, and use the 'odbcConnect( )' function as you did in the previous lab to establish the connection to your Db2 assets.  \n",
    "Provided you successfully loaded your data into the tables in that lab, you are now ready to start running SQL queries using the RODBC library as you did in Course 3.\n"
   ]
  },
  {
   "cell_type": "code",
   "execution_count": 4,
   "metadata": {
    "tags": []
   },
   "outputs": [
    {
     "data": {
      "text/plain": [
       "RODBC Connection 1\n",
       "Details:\n",
       "  case=nochange\n",
       "  DRIVER={IBM DB2 ODBC DRIVER}\n",
       "  UID=hfg30691\n",
       "  PWD=******\n",
       "  DATABASE=bludb\n",
       "  HOSTNAME=54a2f15b-5c0f-46df-8954-7e38e612c2bd.c1ogj3sd0tgtu0lqde00.databases.appdomain.cloud\n",
       "  PORT=32733\n",
       "  PROTOCOL=TCPIP\n",
       "  SECURITY=SSL"
      ]
     },
     "metadata": {},
     "output_type": "display_data"
    },
    {
     "data": {
      "text/html": [
       "<strong>DBMS_Name:</strong> 'DB2/LINUXX8664'"
      ],
      "text/latex": [
       "\\textbf{DBMS\\textbackslash{}\\_Name:} 'DB2/LINUXX8664'"
      ],
      "text/markdown": [
       "**DBMS_Name:** 'DB2/LINUXX8664'"
      ],
      "text/plain": [
       "       DBMS_Name \n",
       "\"DB2/LINUXX8664\" "
      ]
     },
     "metadata": {},
     "output_type": "display_data"
    },
    {
     "data": {
      "text/html": [
       "<strong>DBMS_Ver:</strong> '11.05.0800'"
      ],
      "text/latex": [
       "\\textbf{DBMS\\textbackslash{}\\_Ver:} '11.05.0800'"
      ],
      "text/markdown": [
       "**DBMS_Ver:** '11.05.0800'"
      ],
      "text/plain": [
       "    DBMS_Ver \n",
       "\"11.05.0800\" "
      ]
     },
     "metadata": {},
     "output_type": "display_data"
    },
    {
     "data": {
      "text/html": [
       "<strong>Driver_ODBC_Ver:</strong> '03.51'"
      ],
      "text/latex": [
       "\\textbf{Driver\\textbackslash{}\\_ODBC\\textbackslash{}\\_Ver:} '03.51'"
      ],
      "text/markdown": [
       "**Driver_ODBC_Ver:** '03.51'"
      ],
      "text/plain": [
       "Driver_ODBC_Ver \n",
       "        \"03.51\" "
      ]
     },
     "metadata": {},
     "output_type": "display_data"
    }
   ],
   "source": [
    "# provide your solution here\n",
    "library(RODBC);\n",
    "\n",
    "dsn_driver <- \"{IBM DB2 ODBC Driver}\"\n",
    "dsn_database <- \"bludb\"            # e.g. \"bludb\"\n",
    "dsn_hostname <-\"54a2f15b-5c0f-46df-8954-7e38e612c2bd.c1ogj3sd0tgtu0lqde00.databases.appdomain.cloud\"\n",
    "\n",
    "dsn_port <- \" 32733\"   # e.g. \"32733\" \n",
    "dsn_protocol <- \"TCPIP\"            # i.e. \"TCPIP\"\n",
    "dsn_uid <- \"hfg30691\"        # e.g. \"zjh17769\"\n",
    "dsn_pwd <- \"ckQpx5CDsuZSm5pT\"   # e.g. \"zcwd4+8gbq9bm5k4\"  \n",
    "dsn_security <- \"ssl\"\n",
    "\n",
    "\n",
    "conn_path <- paste(\"DRIVER=\",dsn_driver,\n",
    "                  \";DATABASE=\",dsn_database,\n",
    "                  \";HOSTNAME=\",dsn_hostname,\n",
    "                  \";PORT=\",dsn_port,\n",
    "                  \";PROTOCOL=\",dsn_protocol,\n",
    "                  \";UID=\",dsn_uid,\n",
    "                  \";PWD=\",dsn_pwd,\n",
    "                  \";SECURITY=\",dsn_security,        \n",
    "                    sep=\"\")\n",
    "conn <- odbcDriverConnect(conn_path,believeNRows=FALSE)\n",
    "conn\n",
    "\n",
    "\n",
    "#View database and driver information\n",
    "sql.info <- sqlTypeInfo(conn)\n",
    "conn.info <- odbcGetInfo(conn)\n",
    "conn.info[\"DBMS_Name\"]\n",
    "conn.info[\"DBMS_Ver\"]\n",
    "conn.info[\"Driver_ODBC_Ver\"]"
   ]
  },
  {
   "cell_type": "markdown",
   "metadata": {},
   "source": [
    "\n",
    "## Task 1 - Record Count\n",
    "#### Determine how many records are in the seoul_bike_sharing dataset.\n"
   ]
  },
  {
   "cell_type": "markdown",
   "metadata": {},
   "source": [
    "### Solution 1\n"
   ]
  },
  {
   "cell_type": "code",
   "execution_count": 25,
   "metadata": {
    "tags": []
   },
   "outputs": [
    {
     "name": "stderr",
     "output_type": "stream",
     "text": [
      "Updating HTML index of packages in '.Library'\n",
      "Making 'packages.html' ... done\n"
     ]
    }
   ],
   "source": [
    "install.packages(\"RSQLite\")"
   ]
  },
  {
   "cell_type": "code",
   "execution_count": 12,
   "metadata": {
    "tags": []
   },
   "outputs": [],
   "source": [
    "library(\"RSQLite\")"
   ]
  },
  {
   "cell_type": "code",
   "execution_count": 3,
   "metadata": {
    "tags": []
   },
   "outputs": [],
   "source": [
    "conn <- dbConnect(RSQLite::SQLite(),\"ProjectRSQLite\")\n"
   ]
  },
  {
   "cell_type": "code",
   "execution_count": 4,
   "metadata": {
    "tags": []
   },
   "outputs": [
    {
     "name": "stdout",
     "output_type": "stream",
     "text": [
      "Table was created successfully.\n"
     ]
    }
   ],
   "source": [
    "df1 <- dbExecute(conn, \n",
    "                    \"CREATE TABLE SEOUL_BIKE_SHARING (\n",
    "                                      DATE DATE NOT NULL,\n",
    "                                      WEATHER INTEGER NOT NULL,\n",
    "                                      HOUR TIME NOT NULL,\n",
    "                                      TEMPERATURE  NOT NULL, \n",
    "                                      HUMIDITY INTEGER NOT NULL,\n",
    "                                      WIND_SPEED INTEGER NOT NULL,\n",
    "                                      VISIBILITY INTEGER NOT NULL,\n",
    "                                      DEW_POINT_TEMPERATURE INTEGER NOT NULL,\n",
    "                                      SOLAR_RADIATION INTEGER NOT NULL,\n",
    "                                      RAINFALL INTEGER NOT NULL,\n",
    "                                      SNOWFALL INTEGER NOT NULL,\n",
    "                                      SEASONS VARCHAR(20)  NOT NULL,\n",
    "                                      HOLIDAY  VARCHAR(20) NOT NULL,\n",
    "                                      FUNCTIONING DAY VARCHAR(20) NOT NULL\n",
    "   )\", \n",
    "                    errors=FALSE\n",
    "                    )\n",
    "\n",
    "    if (df1 == -1){\n",
    "        cat (\"An error has occurred.\\n\")\n",
    "        msg <- odbcGetErrMsg(conn)\n",
    "        print (msg)\n",
    "    } else {\n",
    "        cat (\"Table was created successfully.\\n\")\n",
    "    }"
   ]
  },
  {
   "cell_type": "code",
   "execution_count": 5,
   "metadata": {
    "tags": []
   },
   "outputs": [
    {
     "name": "stdout",
     "output_type": "stream",
     "text": [
      "Table was created successfully.\n"
     ]
    }
   ],
   "source": [
    "df2 <- dbExecute(conn, \n",
    "                    \"CREATE TABLE CITIES_WEATHER_FORECAST (\n",
    "                                      CITY VARCHAR(20) NOT NULL,\n",
    "                                      WEATHER VARCHAR(20) NOT NULL,\n",
    "                                      VISIBILITY INTEGER NOT NULL,\n",
    "                                      TEMP INTEGER NOT NULL, \n",
    "                                      TEMP_MIN INTEGER NOT NULL,\n",
    "                                      TEMP_MAX INTEGER NOT NULL,\n",
    "                                      PRESSURE INTEGER NOT NULL,\n",
    "                                      HUMIDITY INTEGER NOT NULL,\n",
    "                                      WIND_SPEED INTEGER NOT NULL,\n",
    "                                      WIND_DEG INTEGER NOT NULL,\n",
    "                                      SEASON VARCHAR (20)  NOT NULL,\n",
    "                                      FORECAST_DATETIME DATE NOT NULL\n",
    "   )\", \n",
    "                    errors=FALSE\n",
    "                    )\n",
    "\n",
    "    if (df2 == -1){\n",
    "        cat (\"An error has occurred.\\n\")\n",
    "        msg <- odbcGetErrMsg(conn)\n",
    "        print (msg)\n",
    "    } else {\n",
    "        cat (\"Table was created successfully.\\n\")\n",
    "    }"
   ]
  },
  {
   "cell_type": "code",
   "execution_count": 6,
   "metadata": {
    "tags": []
   },
   "outputs": [
    {
     "name": "stdout",
     "output_type": "stream",
     "text": [
      "Table was created successfully.\n"
     ]
    }
   ],
   "source": [
    "df3 <- dbExecute(conn, \n",
    "                    \"CREATE TABLE BIKE_SHARING_SYSTEMS  (\n",
    "                                      COUNTRY VARCHAR(20) NOT NULL,\n",
    "                                      CITY VARCHAR(20) NOT NULL,\n",
    "                                      SYSTEM VARCHAR(20) NOT NULL,\n",
    "                                      BICYCLES INTEGER NOTULL\n",
    "                                       )\", \n",
    "                    errors=FALSE\n",
    "                    )\n",
    "\n",
    "    if (df3 == -1){\n",
    "        cat (\"An error has occurred.\\n\")\n",
    "        msg <- odbcGetErrMsg(conn)\n",
    "        print (msg)\n",
    "    } else {\n",
    "        cat (\"Table was created successfully.\\n\")\n",
    "    }"
   ]
  },
  {
   "cell_type": "code",
   "execution_count": 7,
   "metadata": {
    "tags": []
   },
   "outputs": [
    {
     "name": "stdout",
     "output_type": "stream",
     "text": [
      "Table was created successfully.\n"
     ]
    }
   ],
   "source": [
    "df4<- dbExecute(conn, \n",
    "                    \"CREATE TABLE  WORLD_CITIES  (\n",
    "CITY VAR HAR(20) NOT NULL,\n",
    "CITY_ASCII VAR CHAR(20) NOT NULL,\n",
    "LAT INTEGER NOT NULL,\n",
    "LNG INTEGER NOT NULL,\n",
    "COUNTRY VARCHAR(20) NOT NULL,\n",
    "ISO2 CHAR NOT NULL,\n",
    "ISO3CHAR NOT NULL,\n",
    "ADMIN_NAME  VARCHAR (20) NOT NULL,\n",
    "CAPITAL VARCHAR(20) NOT NULL,\n",
    "POPULATION INTEGER NOT NULL,\n",
    "ID INTEGER NOT NULL,\n",
    "PRIMARY KEY(ID)\n",
    "              )\", \n",
    "                    errors=FALSE\n",
    "                    )\n",
    "\n",
    "    if (df4== -1){\n",
    "        cat (\"An error has occurred.\\n\")\n",
    "        msg <- odbcGetErrMsg(conn)\n",
    "        print (msg)\n",
    "    } else {\n",
    "        cat (\"Table was created successfully.\\n\")\n",
    "    }\n",
    "     "
   ]
  },
  {
   "cell_type": "code",
   "execution_count": 9,
   "metadata": {
    "tags": []
   },
   "outputs": [
    {
     "data": {
      "text/html": [
       "<style>\n",
       ".list-inline {list-style: none; margin:0; padding: 0}\n",
       ".list-inline>li {display: inline-block}\n",
       ".list-inline>li:not(:last-child)::after {content: \"\\00b7\"; padding: 0 .5ex}\n",
       "</style>\n",
       "<ol class=list-inline><li>'BIKE_SHARING_SYSTEMS'</li><li>'CITIES_WEATHER_FORECAST'</li><li>'SEOUL_BIKE_SHARING'</li><li>'WORLD_CITIES'</li></ol>\n"
      ],
      "text/latex": [
       "\\begin{enumerate*}\n",
       "\\item 'BIKE\\_SHARING\\_SYSTEMS'\n",
       "\\item 'CITIES\\_WEATHER\\_FORECAST'\n",
       "\\item 'SEOUL\\_BIKE\\_SHARING'\n",
       "\\item 'WORLD\\_CITIES'\n",
       "\\end{enumerate*}\n"
      ],
      "text/markdown": [
       "1. 'BIKE_SHARING_SYSTEMS'\n",
       "2. 'CITIES_WEATHER_FORECAST'\n",
       "3. 'SEOUL_BIKE_SHARING'\n",
       "4. 'WORLD_CITIES'\n",
       "\n",
       "\n"
      ],
      "text/plain": [
       "[1] \"BIKE_SHARING_SYSTEMS\"    \"CITIES_WEATHER_FORECAST\"\n",
       "[3] \"SEOUL_BIKE_SHARING\"      \"WORLD_CITIES\"           "
      ]
     },
     "metadata": {},
     "output_type": "display_data"
    }
   ],
   "source": [
    "dbListTables(conn)\n"
   ]
  },
  {
   "cell_type": "code",
   "execution_count": 13,
   "metadata": {
    "tags": []
   },
   "outputs": [
    {
     "ename": "ERROR",
     "evalue": "Error in sqlQuery(conn, query1): could not find function \"sqlQuery\"\n",
     "execution_count": 13,
     "output_type": "error",
     "traceback": [
      "Error in sqlQuery(conn, query1): could not find function \"sqlQuery\"\nTraceback:\n"
     ]
    }
   ],
   "source": [
    "# provide your solution here\n",
    "query1 = \"SELECT COUNT(*) FROM seoul_bike_sharing\"\n",
    "sqlQuery(conn,query1)"
   ]
  },
  {
   "cell_type": "markdown",
   "metadata": {},
   "source": [
    "## Task 2 - Operational Hours\n",
    "#### Determine how many hours had non-zero rented bike count.\n"
   ]
  },
  {
   "cell_type": "markdown",
   "metadata": {},
   "source": [
    "### Solution 2\n"
   ]
  },
  {
   "cell_type": "code",
   "execution_count": 11,
   "metadata": {
    "tags": []
   },
   "outputs": [
    {
     "ename": "ERROR",
     "evalue": "Error in sqlQuery(conn, query2): could not find function \"sqlQuery\"\n",
     "execution_count": 11,
     "output_type": "error",
     "traceback": [
      "Error in sqlQuery(conn, query2): could not find function \"sqlQuery\"\nTraceback:\n"
     ]
    }
   ],
   "source": [
    "# provide your solution here\n",
    "query2= \"SELECT COUNT(*) FROM  seoul_bike_sharing WHERE RENTED_BIKE_COUNT= 0 \"\n",
    "sqlQuery(conn, query2)"
   ]
  },
  {
   "cell_type": "markdown",
   "metadata": {},
   "source": [
    "## Task 3 - Weather Outlook\n",
    "#### Query the the weather forecast for Seoul over the next 3 hours.\n",
    "Recall that the records in the CITIES_WEATHER_FORECAST dataset are 3 hours apart, so we just need the first record from the query.\n"
   ]
  },
  {
   "cell_type": "markdown",
   "metadata": {},
   "source": [
    "### Solution 3\n"
   ]
  },
  {
   "cell_type": "code",
   "execution_count": 7,
   "metadata": {},
   "outputs": [
    {
     "data": {
      "text/html": [
       "<table>\n",
       "<caption>A data.frame: 1 × 12</caption>\n",
       "<thead>\n",
       "\t<tr><th></th><th scope=col>COLUMN_0</th><th scope=col>COLUMN_1</th><th scope=col>COLUMN_2</th><th scope=col>COLUMN_3</th><th scope=col>COLUMN_4</th><th scope=col>COLUMN_5</th><th scope=col>COLUMN_6</th><th scope=col>COLUMN_7</th><th scope=col>COLUMN_8</th><th scope=col>COLUMN_9</th><th scope=col>COLUMN_10</th><th scope=col>COLUMN_11</th></tr>\n",
       "\t<tr><th></th><th scope=col>&lt;fct&gt;</th><th scope=col>&lt;fct&gt;</th><th scope=col>&lt;int&gt;</th><th scope=col>&lt;dbl&gt;</th><th scope=col>&lt;dbl&gt;</th><th scope=col>&lt;dbl&gt;</th><th scope=col>&lt;int&gt;</th><th scope=col>&lt;int&gt;</th><th scope=col>&lt;dbl&gt;</th><th scope=col>&lt;int&gt;</th><th scope=col>&lt;fct&gt;</th><th scope=col>&lt;dttm&gt;</th></tr>\n",
       "</thead>\n",
       "<tbody>\n",
       "\t<tr><th scope=row>1</th><td>Seoul</td><td>Clear</td><td>10000</td><td>12.32</td><td>10.91</td><td>12.32</td><td>1015</td><td>50</td><td>2.18</td><td>248</td><td>Spring</td><td>2021-04-16 12:00:00</td></tr>\n",
       "</tbody>\n",
       "</table>\n"
      ],
      "text/latex": [
       "A data.frame: 1 × 12\n",
       "\\begin{tabular}{r|llllllllllll}\n",
       "  & COLUMN\\_0 & COLUMN\\_1 & COLUMN\\_2 & COLUMN\\_3 & COLUMN\\_4 & COLUMN\\_5 & COLUMN\\_6 & COLUMN\\_7 & COLUMN\\_8 & COLUMN\\_9 & COLUMN\\_10 & COLUMN\\_11\\\\\n",
       "  & <fct> & <fct> & <int> & <dbl> & <dbl> & <dbl> & <int> & <int> & <dbl> & <int> & <fct> & <dttm>\\\\\n",
       "\\hline\n",
       "\t1 & Seoul & Clear & 10000 & 12.32 & 10.91 & 12.32 & 1015 & 50 & 2.18 & 248 & Spring & 2021-04-16 12:00:00\\\\\n",
       "\\end{tabular}\n"
      ],
      "text/markdown": [
       "\n",
       "A data.frame: 1 × 12\n",
       "\n",
       "| <!--/--> | COLUMN_0 &lt;fct&gt; | COLUMN_1 &lt;fct&gt; | COLUMN_2 &lt;int&gt; | COLUMN_3 &lt;dbl&gt; | COLUMN_4 &lt;dbl&gt; | COLUMN_5 &lt;dbl&gt; | COLUMN_6 &lt;int&gt; | COLUMN_7 &lt;int&gt; | COLUMN_8 &lt;dbl&gt; | COLUMN_9 &lt;int&gt; | COLUMN_10 &lt;fct&gt; | COLUMN_11 &lt;dttm&gt; |\n",
       "|---|---|---|---|---|---|---|---|---|---|---|---|---|\n",
       "| 1 | Seoul | Clear | 10000 | 12.32 | 10.91 | 12.32 | 1015 | 50 | 2.18 | 248 | Spring | 2021-04-16 12:00:00 |\n",
       "\n"
      ],
      "text/plain": [
       "  COLUMN_0 COLUMN_1 COLUMN_2 COLUMN_3 COLUMN_4 COLUMN_5 COLUMN_6 COLUMN_7\n",
       "1 Seoul    Clear    10000    12.32    10.91    12.32    1015     50      \n",
       "  COLUMN_8 COLUMN_9 COLUMN_10 COLUMN_11          \n",
       "1 2.18     248      Spring    2021-04-16 12:00:00"
      ]
     },
     "metadata": {},
     "output_type": "display_data"
    }
   ],
   "source": [
    "# provide your solution here\n",
    "query3= \"SELECT * FROM CITIES_WEATHER_FORECAST LIMIT 1\"\n",
    "sqlQuery(conn,query3)"
   ]
  },
  {
   "cell_type": "markdown",
   "metadata": {},
   "source": [
    "## Task 4 - Seasons\n",
    "#### Find which seasons are included in the seoul bike sharing dataset.\n"
   ]
  },
  {
   "cell_type": "markdown",
   "metadata": {},
   "source": [
    "### Solution 4\n"
   ]
  },
  {
   "cell_type": "code",
   "execution_count": 11,
   "metadata": {},
   "outputs": [
    {
     "data": {
      "text/html": [
       "<style>\n",
       ".list-inline {list-style: none; margin:0; padding: 0}\n",
       ".list-inline>li {display: inline-block}\n",
       ".list-inline>li:not(:last-child)::after {content: \"\\00b7\"; padding: 0 .5ex}\n",
       "</style>\n",
       "<ol class=list-inline><li><span style=white-space:pre-wrap>'42S22 -206 [IBM][CLI Driver][DB2/LINUXX8664] SQL0206N  \"SEASONS\" is not valid in the context where it is used.  SQLSTATE=42703\\n'</span></li><li><span style=white-space:pre-wrap>'[RODBC] ERROR: Could not SQLExecDirect \\'SELECT DISTINCT (SEASONS) FROM  seoul_bike_sharing\\''</span></li></ol>\n"
      ],
      "text/latex": [
       "\\begin{enumerate*}\n",
       "\\item '42S22 -206 {[}IBM{]}{[}CLI Driver{]}{[}DB2/LINUXX8664{]} SQL0206N  \"SEASONS\" is not valid in the context where it is used.  SQLSTATE=42703\\textbackslash{}n'\n",
       "\\item '{[}RODBC{]} ERROR: Could not SQLExecDirect \\textbackslash{}'SELECT DISTINCT (SEASONS) FROM  seoul\\_bike\\_sharing\\textbackslash{}''\n",
       "\\end{enumerate*}\n"
      ],
      "text/markdown": [
       "1. <span style=white-space:pre-wrap>'42S22 -206 [IBM][CLI Driver][DB2/LINUXX8664] SQL0206N  \"SEASONS\" is not valid in the context where it is used.  SQLSTATE=42703\\n'</span>\n",
       "2. <span style=white-space:pre-wrap>'[RODBC] ERROR: Could not SQLExecDirect \\'SELECT DISTINCT (SEASONS) FROM  seoul_bike_sharing\\''</span>\n",
       "\n",
       "\n"
      ],
      "text/plain": [
       "[1] \"42S22 -206 [IBM][CLI Driver][DB2/LINUXX8664] SQL0206N  \\\"SEASONS\\\" is not valid in the context where it is used.  SQLSTATE=42703\\n\"\n",
       "[2] \"[RODBC] ERROR: Could not SQLExecDirect 'SELECT DISTINCT (SEASONS) FROM  seoul_bike_sharing'\"                                       "
      ]
     },
     "metadata": {},
     "output_type": "display_data"
    }
   ],
   "source": [
    "# provide your solution here\n",
    "query4 = \"SELECT DISTINCT (SEASONS) FROM  seoul_bike_sharing;\"\n",
    "sqlQuery(conn, query4)"
   ]
  },
  {
   "cell_type": "markdown",
   "metadata": {},
   "source": [
    "## Task 5 - Date Range\n",
    "#### Find the first and last dates in the Seoul Bike Sharing dataset.\n"
   ]
  },
  {
   "cell_type": "markdown",
   "metadata": {},
   "source": [
    "### Solution 5\n"
   ]
  },
  {
   "cell_type": "code",
   "execution_count": 22,
   "metadata": {},
   "outputs": [
    {
     "data": {
      "text/html": [
       "<style>\n",
       ".list-inline {list-style: none; margin:0; padding: 0}\n",
       ".list-inline>li {display: inline-block}\n",
       ".list-inline>li:not(:last-child)::after {content: \"\\00b7\"; padding: 0 .5ex}\n",
       "</style>\n",
       "<ol class=list-inline><li><span style=white-space:pre-wrap>'42S22 -206 [IBM][CLI Driver][DB2/LINUXX8664] SQL0206N  \"DATE\" is not valid in the context where it is used.  SQLSTATE=42703\\n'</span></li><li><span style=white-space:pre-wrap>'[RODBC] ERROR: Could not SQLExecDirect \\'SELECT MAX(DATE) AS Last_Date, MIN(DATE) AS first_date\\n        FROM SEOUL_BIKE_SHARING;\\''</span></li></ol>\n"
      ],
      "text/latex": [
       "\\begin{enumerate*}\n",
       "\\item '42S22 -206 {[}IBM{]}{[}CLI Driver{]}{[}DB2/LINUXX8664{]} SQL0206N  \"DATE\" is not valid in the context where it is used.  SQLSTATE=42703\\textbackslash{}n'\n",
       "\\item '{[}RODBC{]} ERROR: Could not SQLExecDirect \\textbackslash{}'SELECT MAX(DATE) AS Last\\_Date, MIN(DATE) AS first\\_date\\textbackslash{}n        FROM SEOUL\\_BIKE\\_SHARING;\\textbackslash{}''\n",
       "\\end{enumerate*}\n"
      ],
      "text/markdown": [
       "1. <span style=white-space:pre-wrap>'42S22 -206 [IBM][CLI Driver][DB2/LINUXX8664] SQL0206N  \"DATE\" is not valid in the context where it is used.  SQLSTATE=42703\\n'</span>\n",
       "2. <span style=white-space:pre-wrap>'[RODBC] ERROR: Could not SQLExecDirect \\'SELECT MAX(DATE) AS Last_Date, MIN(DATE) AS first_date\\n        FROM SEOUL_BIKE_SHARING;\\''</span>\n",
       "\n",
       "\n"
      ],
      "text/plain": [
       "[1] \"42S22 -206 [IBM][CLI Driver][DB2/LINUXX8664] SQL0206N  \\\"DATE\\\" is not valid in the context where it is used.  SQLSTATE=42703\\n\"  \n",
       "[2] \"[RODBC] ERROR: Could not SQLExecDirect 'SELECT MAX(DATE) AS Last_Date, MIN(DATE) AS first_date\\n        FROM SEOUL_BIKE_SHARING;'\""
      ]
     },
     "metadata": {},
     "output_type": "display_data"
    }
   ],
   "source": [
    "# provide your solution here\n",
    "query5 = \"SELECT MAX(DATE) AS Last_Date, MIN(DATE) AS first_date\n",
    "        FROM SEOUL_BIKE_SHARING;\"\n",
    "sqlQuery(conn,query5)"
   ]
  },
  {
   "cell_type": "markdown",
   "metadata": {},
   "source": [
    "## Task 6 - Subquery - 'all-time high'\n",
    "#### determine which date and hour had the most bike rentals.\n"
   ]
  },
  {
   "cell_type": "markdown",
   "metadata": {},
   "source": [
    "### Solution 6\n"
   ]
  },
  {
   "cell_type": "code",
   "execution_count": null,
   "metadata": {},
   "outputs": [],
   "source": [
    "# provide your solution here"
   ]
  },
  {
   "cell_type": "markdown",
   "metadata": {},
   "source": [
    "## Task 7 - Hourly popularity and temperature by season\n",
    "#### Determine the average hourly temperature and the average number of bike rentals per hour over each season. List the top ten results by average bike count.\n"
   ]
  },
  {
   "cell_type": "markdown",
   "metadata": {},
   "source": [
    "### Solution 7\n"
   ]
  },
  {
   "cell_type": "code",
   "execution_count": null,
   "metadata": {},
   "outputs": [],
   "source": [
    "# provide your solution here"
   ]
  },
  {
   "cell_type": "markdown",
   "metadata": {},
   "source": [
    "## Task 8 - Rental Seasonality\n",
    "#### Find the average hourly bike count during each season. \n",
    "Also include the minimum, maximum, and standard deviation of the hourly bike count for each season. \n"
   ]
  },
  {
   "cell_type": "markdown",
   "metadata": {},
   "source": [
    "### Solution 8\n"
   ]
  },
  {
   "cell_type": "code",
   "execution_count": null,
   "metadata": {},
   "outputs": [],
   "source": [
    "# provide your solution here"
   ]
  },
  {
   "cell_type": "markdown",
   "metadata": {},
   "source": [
    "Let's explore a bit and see what might be the most significant contributing factors in terms of the provided data.\n"
   ]
  },
  {
   "cell_type": "markdown",
   "metadata": {},
   "source": [
    "## Task 9 - Weather Seasonality\n",
    "#### Consider the weather over each season. On average, what were the TEMPERATURE, HUMIDITY, WIND_SPEED, VISIBILITY, DEW_POINT_TEMPERATURE, SOLAR_RADIATION, RAINFALL, and SNOWFALL per season?\n",
    "Include the average bike count as well , and rank the results by average bike count so you can see if it is correlated with the weather at all. \n"
   ]
  },
  {
   "cell_type": "markdown",
   "metadata": {},
   "source": [
    "### Solution 9\n"
   ]
  },
  {
   "cell_type": "code",
   "execution_count": null,
   "metadata": {},
   "outputs": [],
   "source": [
    "query <- \n",
    "# provide your solution here"
   ]
  },
  {
   "cell_type": "markdown",
   "metadata": {},
   "source": [
    "## Task 10 - Total Bike Count and City Info for Seoul\n",
    "#### Use an implicit join across the WORLD_CITIES and the BIKE_SHARING_SYSTEMS tables to determine the total number of bikes avaialble in Seoul, plus the following city information about Seoul: CITY, COUNTRY, LAT, LON, POPULATION, in a single view.\n",
    "Notice that in this case, the CITY column will work for the WORLD_CITIES table, but in general you would have to use the CITY_ASCII column.\n"
   ]
  },
  {
   "cell_type": "markdown",
   "metadata": {},
   "source": [
    "### Solution 10\n"
   ]
  },
  {
   "cell_type": "code",
   "execution_count": null,
   "metadata": {},
   "outputs": [],
   "source": [
    "# provide your solution here"
   ]
  },
  {
   "cell_type": "markdown",
   "metadata": {},
   "source": [
    "## Task 11 - Find all city names and coordinates with comparable bike scale to Seoul's bike sharing system\n",
    "#### Find all cities with total bike counts between 15000 and 20000. Return the city and country names, plus the coordinates (LAT, LNG), population, and number of bicycles for each city.\n",
    "Later we will ask you to visualize these similar cities on leaflet, with some weather data.\n"
   ]
  },
  {
   "cell_type": "markdown",
   "metadata": {},
   "source": [
    "### Solution 11\n"
   ]
  },
  {
   "cell_type": "code",
   "execution_count": null,
   "metadata": {},
   "outputs": [],
   "source": [
    "# provide your solution here"
   ]
  },
  {
   "cell_type": "code",
   "execution_count": null,
   "metadata": {},
   "outputs": [],
   "source": [
    "close(conn)"
   ]
  },
  {
   "cell_type": "markdown",
   "metadata": {},
   "source": [
    "## Author(s)\n",
    "\n",
    "<h4> Jeff Grossman </h4>\n",
    "\n",
    "## Contributor(s)\n",
    "\n",
    "<h4> Yan Luo, Rav Ahuja </h4>\n",
    "\n",
    "## Change log\n",
    "\n",
    "| Date       | Version | Changed by    | Change Description                                                                |\n",
    "| ---------- | ------- | ------------- | --------------------------------------------------------------------------------- |\n",
    "| 2021-05-04 | 0.2     | Jeff Grossman | Finalize                               |\n",
    "| 2021-04-22 | 0.2     | Jeff Grossman | Update as per peer review                               |\n",
    "| 2021-04-10 | 0.2     | Jeff Grossman | Add data sources and implicit joins                                  |\n",
    "| 2021-04-05 | 0.1     | Jeff Grossman | Start content creation                                                          |\n",
    "\n",
    "\n",
    "## <h3 align=\"center\"> © IBM Corporation 2021. All rights reserved. <h3/>\n"
   ]
  },
  {
   "cell_type": "code",
   "execution_count": null,
   "metadata": {},
   "outputs": [],
   "source": []
  }
 ],
 "metadata": {
  "kernelspec": {
   "display_name": "R",
   "language": "R",
   "name": "conda-env-r-r"
  },
  "language_info": {
   "codemirror_mode": "r",
   "file_extension": ".r",
   "mimetype": "text/x-r-source",
   "name": "R",
   "pygments_lexer": "r",
   "version": "3.5.1"
  }
 },
 "nbformat": 4,
 "nbformat_minor": 4
}
